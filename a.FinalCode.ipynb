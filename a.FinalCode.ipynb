{
 "cells": [
  {
   "cell_type": "code",
   "metadata": {
    "tags": [],
    "cell_id": "73b06fdb-9fa5-4014-9710-3b87772b4ee7",
    "deepnote_to_be_reexecuted": false,
    "source_hash": "3939dc73",
    "execution_start": 1654585902341,
    "execution_millis": 271,
    "owner_user_id": "47125c2d-bd2e-4106-8401-adec8d3135d8",
    "deepnote_cell_type": "code",
    "deepnote_cell_height": 117
   },
   "source": "import pandas as pd\nimport numpy as np\nimport altair as alt",
   "execution_count": null,
   "outputs": []
  },
  {
   "cell_type": "code",
   "metadata": {
    "cell_id": "26d20e112e5f4e83a5094fca2bccd72d",
    "tags": [],
    "deepnote_to_be_reexecuted": false,
    "source_hash": "8ca1fd10",
    "execution_start": 1654585903809,
    "execution_millis": 183,
    "deepnote_table_state": {
     "pageSize": 25,
     "pageIndex": 0,
     "filters": [],
     "sortBy": []
    },
    "deepnote_table_loading": false,
    "deepnote_cell_type": "code",
    "deepnote_cell_height": 927
   },
   "source": "# import raw data\nraw = pd.read_csv('ESGData.csv')\n\n# merge the raw data with the Topics of Indicator Names\ncode = pd.read_csv('ESGSeries.csv').loc[:, ['Topic', 'Indicator Name']]\ncode['Topic'] = code['Topic'].str.split(':', expand = True)[0]\nraw_merge = pd.merge(raw, code, how = 'left', on = 'Indicator Name')\n\n# Create a region dataframe\nregion = pd.DataFrame({\n    'Country Name': ['China', 'Japan', 'India','United Kingdom','Germany','Russian Federation','France', 'Italy', \n           'Egypt, Arab Rep.','South Africa', 'Congo, Dem. Rep.','United States', 'Brazil', 'Argentina',\n           'Canada', 'Australia', 'New Zealand','Fiji'],\n    'Region': ['Asia', 'Asia', 'Asia','Europe','Europe','Europe','Europe', 'Europe', \n               'Africa', 'Africa', 'Africa','North America', 'South America', 'South America',\n           'North America', 'Oceania', 'Oceania','Oceania']\n})\n\n# only selected the needed rows and coulmns\ncountry = ['China', 'Japan', 'India','United Kingdom','Germany','Russian Federation','France', 'Italy', \n           'Egypt, Arab Rep.', 'South Africa', 'Congo, Dem. Rep.','United States', 'Brazil', 'Argentina',\n           'Canada', 'Australia', 'New Zealand', 'Fiji']\nraw1 = raw_merge.loc[:, ['Country Name', 'Country Code', 'Indicator Name', 'Topic',\n                        '2001', '2002', '2003', '2004', '2005', \n                        '2006', '2007', '2008', '2009', '2010', \n                        '2011', '2012', '2013', '2014', '2015', \n                        '2016', '2017', '2018', '2019', '2020']]\nraw1 = raw1.loc[raw1['Country Name'].isin(country)]\nraw1['Topic'] = raw1['Topic'].fillna('Social')\nraw1 = raw1.sort_values('Topic')\nraw2 = pd.merge(raw1, region, how = 'left', on = 'Country Name')\n\n# melt and pivot the columns\nclean = raw2.drop(\n    columns = 'Country Code'\n).melt(\n    id_vars = ['Region', 'Country Name', 'Topic', 'Indicator Name'],\n    var_name = 'Year',\n    value_name = 'level'\n).pivot(\n    index = ['Region', 'Country Name', 'Year'],\n    columns = ['Topic', 'Indicator Name'],\n    values = 'level'\n)\n\n# we only want to choose the columns with no missing values\n# tidied dataset\nclean2 = clean.loc[:, (clean.isna().mean() <= 0.0)]",
   "execution_count": null,
   "outputs": []
  },
  {
   "cell_type": "code",
   "metadata": {
    "cell_id": "f4f96bc4732a416c9e8d1f44e551b3a5",
    "tags": [],
    "deepnote_to_be_reexecuted": false,
    "source_hash": "eef37bf",
    "execution_start": 1654585904811,
    "execution_millis": 73,
    "deepnote_table_loading": false,
    "deepnote_table_invalid": false,
    "deepnote_table_state": {
     "pageSize": 10,
     "pageIndex": 7,
     "filters": [],
     "sortBy": []
    },
    "deepnote_cell_type": "code",
    "deepnote_cell_height": 1050
   },
   "source": "# rename the columns names\ncol_names = {\n        'Forest area (% of land area)': 'fore_area',\n        'Adjusted savings: net forest depletion (% of GNI)': 'fore_dep',\n        'Adjusted savings: natural resources depletion (% of GNI)': 'natu_res_dep',\n        'Population density (people per sq. km of land area)': 'pop_denst',\n        'Ratio of female to male labor force participation rate (%) (modeled ILO estimate)' : 'rate_labor',\n        'GDP growth (annual %)': 'gdp_grow',\n        'Unemployment, total (% of total labor force) (modeled ILO estimate)': 'unemp_rate',\n        'Life expectancy at birth, total (years)': 'life_exp',\n        'Access to electricity (% of population)': 'acce_electr',\n        'Mortality rate, under-5 (per 1,000 live births)': 'mortal_rate',\n        'Access to clean fuels and technologies for cooking (% of population)': 'acce_fuel_tech',\n        'Population ages 65 and above (% of total population)': 'pop_65',\n        'Fertility rate, total (births per woman)': 'ferti_rate'\n    }\n\n# selected the needed variables\ndata = clean2.rename(\n    columns = col_names\n).drop(\n    columns = [('Social', 'mortal_rate'), \n          ('Social', 'pop_65'),\n          ('Social', 'ferti_rate')]\n)\ndata",
   "execution_count": null,
   "outputs": [
    {
     "output_type": "execute_result",
     "execution_count": 3,
     "data": {
      "application/vnd.deepnote.dataframe.v3+json": {
       "column_count": 8,
       "row_count": 360,
       "columns": [
        {
         "name": "Environment pop_denst",
         "dtype": "float64",
         "stats": {
          "unique_count": 359,
          "nan_count": 0,
          "min": "2.52697759785481",
          "max": "464.149410229417",
          "histogram": [
           {
            "bin_start": 2.52697759785481,
            "bin_end": 48.68922086101103,
            "count": 197
           },
           {
            "bin_start": 48.68922086101103,
            "bin_end": 94.85146412416725,
            "count": 18
           },
           {
            "bin_start": 94.85146412416725,
            "bin_end": 141.01370738732348,
            "count": 33
           },
           {
            "bin_start": 141.01370738732348,
            "bin_end": 187.1759506504797,
            "count": 12
           },
           {
            "bin_start": 187.1759506504797,
            "bin_end": 233.33819391363593,
            "count": 24
           },
           {
            "bin_start": 233.33819391363593,
            "bin_end": 279.5004371767921,
            "count": 36
           },
           {
            "bin_start": 279.5004371767921,
            "bin_end": 325.66268043994836,
            "count": 0
           },
           {
            "bin_start": 325.66268043994836,
            "bin_end": 371.82492370310456,
            "count": 22
           },
           {
            "bin_start": 371.82492370310456,
            "bin_end": 417.98716696626076,
            "count": 8
           },
           {
            "bin_start": 417.98716696626076,
            "bin_end": 464.149410229417,
            "count": 10
           }
          ]
         }
        },
        {
         "name": "Environment fore_area",
         "dtype": "float64",
         "stats": {
          "unique_count": 342,
          "nan_count": 0,
          "min": "0.0451855944547692",
          "max": "68.4938271604938",
          "histogram": [
           {
            "bin_start": 0.0451855944547692,
            "bin_end": 6.890049751058672,
            "count": 20
           },
           {
            "bin_start": 6.890049751058672,
            "bin_end": 13.734913907662575,
            "count": 40
           },
           {
            "bin_start": 13.734913907662575,
            "bin_end": 20.579778064266474,
            "count": 47
           },
           {
            "bin_start": 20.579778064266474,
            "bin_end": 27.42464222087038,
            "count": 33
           },
           {
            "bin_start": 27.42464222087038,
            "bin_end": 34.269506377474286,
            "count": 80
           },
           {
            "bin_start": 34.269506377474286,
            "bin_end": 41.11437053407818,
            "count": 40
           },
           {
            "bin_start": 41.11437053407818,
            "bin_end": 47.95923469068209,
            "count": 0
           },
           {
            "bin_start": 47.95923469068209,
            "bin_end": 54.80409884728599,
            "count": 20
           },
           {
            "bin_start": 54.80409884728599,
            "bin_end": 61.6489630038899,
            "count": 42
           },
           {
            "bin_start": 61.6489630038899,
            "bin_end": 68.4938271604938,
            "count": 38
           }
          ]
         }
        },
        {
         "name": "Governance gdp_grow",
         "dtype": "float64",
         "stats": {
          "unique_count": 360,
          "nan_count": 0,
          "min": "-15.7118039805906",
          "max": "14.2308609330803",
          "histogram": [
           {
            "bin_start": -15.7118039805906,
            "bin_end": -12.71753748922351,
            "count": 1
           },
           {
            "bin_start": -12.71753748922351,
            "bin_end": -9.723270997856421,
            "count": 2
           },
           {
            "bin_start": -9.723270997856421,
            "bin_end": -6.72900450648933,
            "count": 5
           },
           {
            "bin_start": -6.72900450648933,
            "bin_end": -3.7347380151222396,
            "count": 11
           },
           {
            "bin_start": -3.7347380151222396,
            "bin_end": -0.7404715237551489,
            "count": 22
           },
           {
            "bin_start": -0.7404715237551489,
            "bin_end": 2.25379496761194,
            "count": 124
           },
           {
            "bin_start": 2.25379496761194,
            "bin_end": 5.248061458979032,
            "count": 122
           },
           {
            "bin_start": 5.248061458979032,
            "bin_end": 8.242327950346121,
            "count": 52
           },
           {
            "bin_start": 8.242327950346121,
            "bin_end": 11.23659444171321,
            "count": 18
           },
           {
            "bin_start": 11.23659444171321,
            "bin_end": 14.2308609330803,
            "count": 3
           }
          ]
         }
        },
        {
         "name": "Governance rate_labor",
         "dtype": "float64",
         "stats": {
          "unique_count": 360,
          "nan_count": 0,
          "min": "23.0286838488384",
          "max": "96.7245672518216",
          "histogram": [
           {
            "bin_start": 23.0286838488384,
            "bin_end": 30.39827218913672,
            "count": 21
           },
           {
            "bin_start": 30.39827218913672,
            "bin_end": 37.76786052943504,
            "count": 15
           },
           {
            "bin_start": 37.76786052943504,
            "bin_end": 45.13744886973336,
            "count": 5
           },
           {
            "bin_start": 45.13744886973336,
            "bin_end": 52.50703721003168,
            "count": 13
           },
           {
            "bin_start": 52.50703721003168,
            "bin_end": 59.876625550330004,
            "count": 8
           },
           {
            "bin_start": 59.876625550330004,
            "bin_end": 67.24621389062831,
            "count": 35
           },
           {
            "bin_start": 67.24621389062831,
            "bin_end": 74.61580223092663,
            "count": 53
           },
           {
            "bin_start": 74.61580223092663,
            "bin_end": 81.98539057122495,
            "count": 92
           },
           {
            "bin_start": 81.98539057122495,
            "bin_end": 89.35497891152328,
            "count": 99
           },
           {
            "bin_start": 89.35497891152328,
            "bin_end": 96.7245672518216,
            "count": 19
           }
          ]
         }
        },
        {
         "name": "Social acce_electr",
         "dtype": "float64",
         "stats": {
          "unique_count": 136,
          "nan_count": 0,
          "min": "6.0",
          "max": "100.0",
          "histogram": [
           {
            "bin_start": 6,
            "bin_end": 15.4,
            "count": 14
           },
           {
            "bin_start": 15.4,
            "bin_end": 24.8,
            "count": 6
           },
           {
            "bin_start": 24.8,
            "bin_end": 34.2,
            "count": 0
           },
           {
            "bin_start": 34.2,
            "bin_end": 43.6,
            "count": 0
           },
           {
            "bin_start": 43.6,
            "bin_end": 53,
            "count": 0
           },
           {
            "bin_start": 53,
            "bin_end": 62.400000000000006,
            "count": 2
           },
           {
            "bin_start": 62.400000000000006,
            "bin_end": 71.8,
            "count": 7
           },
           {
            "bin_start": 71.8,
            "bin_end": 81.2,
            "count": 13
           },
           {
            "bin_start": 81.2,
            "bin_end": 90.60000000000001,
            "count": 25
           },
           {
            "bin_start": 90.60000000000001,
            "bin_end": 100,
            "count": 293
           }
          ]
         }
        },
        {
         "name": "Social life_exp",
         "dtype": "float64",
         "stats": {
          "unique_count": 345,
          "nan_count": 0,
          "min": "50.667",
          "max": "84.6156097560976",
          "histogram": [
           {
            "bin_start": 50.667,
            "bin_end": 54.06186097560976,
            "count": 9
           },
           {
            "bin_start": 54.06186097560976,
            "bin_end": 57.45672195121952,
            "count": 11
           },
           {
            "bin_start": 57.45672195121952,
            "bin_end": 60.85158292682928,
            "count": 11
           },
           {
            "bin_start": 60.85158292682928,
            "bin_end": 64.24644390243904,
            "count": 12
           },
           {
            "bin_start": 64.24644390243904,
            "bin_end": 67.6413048780488,
            "count": 36
           },
           {
            "bin_start": 67.6413048780488,
            "bin_end": 71.03616585365856,
            "count": 30
           },
           {
            "bin_start": 71.03616585365856,
            "bin_end": 74.43102682926832,
            "count": 37
           },
           {
            "bin_start": 74.43102682926832,
            "bin_end": 77.82588780487808,
            "count": 41
           },
           {
            "bin_start": 77.82588780487808,
            "bin_end": 81.22074878048784,
            "count": 89
           },
           {
            "bin_start": 81.22074878048784,
            "bin_end": 84.6156097560976,
            "count": 84
           }
          ]
         }
        },
        {
         "name": "Social unemp_rate",
         "dtype": "float64",
         "stats": {
          "unique_count": 311,
          "nan_count": 0,
          "min": "2.40000009536743",
          "max": "33.2900009155273",
          "histogram": [
           {
            "bin_start": 2.40000009536743,
            "bin_end": 5.489000177383417,
            "count": 152
           },
           {
            "bin_start": 5.489000177383417,
            "bin_end": 8.578000259399403,
            "count": 114
           },
           {
            "bin_start": 8.578000259399403,
            "bin_end": 11.66700034141539,
            "count": 55
           },
           {
            "bin_start": 11.66700034141539,
            "bin_end": 14.756000423431377,
            "count": 16
           },
           {
            "bin_start": 14.756000423431377,
            "bin_end": 17.845000505447366,
            "count": 2
           },
           {
            "bin_start": 17.845000505447366,
            "bin_end": 20.934000587463352,
            "count": 1
           },
           {
            "bin_start": 20.934000587463352,
            "bin_end": 24.023000669479337,
            "count": 2
           },
           {
            "bin_start": 24.023000669479337,
            "bin_end": 27.112000751495323,
            "count": 10
           },
           {
            "bin_start": 27.112000751495323,
            "bin_end": 30.20100083351131,
            "count": 5
           },
           {
            "bin_start": 30.20100083351131,
            "bin_end": 33.2900009155273,
            "count": 3
           }
          ]
         }
        },
        {
         "name": "Social acce_fuel_tech",
         "dtype": "float64",
         "stats": {
          "unique_count": 151,
          "nan_count": 0,
          "min": "1.2",
          "max": "100.0",
          "histogram": [
           {
            "bin_start": 1.2,
            "bin_end": 11.079999999999998,
            "count": 20
           },
           {
            "bin_start": 11.079999999999998,
            "bin_end": 20.959999999999997,
            "count": 0
           },
           {
            "bin_start": 20.959999999999997,
            "bin_end": 30.839999999999996,
            "count": 15
           },
           {
            "bin_start": 30.839999999999996,
            "bin_end": 40.72,
            "count": 12
           },
           {
            "bin_start": 40.72,
            "bin_end": 50.599999999999994,
            "count": 14
           },
           {
            "bin_start": 50.599999999999994,
            "bin_end": 60.48,
            "count": 10
           },
           {
            "bin_start": 60.48,
            "bin_end": 70.36,
            "count": 10
           },
           {
            "bin_start": 70.36,
            "bin_end": 80.24,
            "count": 11
           },
           {
            "bin_start": 80.24,
            "bin_end": 90.11999999999999,
            "count": 15
           },
           {
            "bin_start": 90.11999999999999,
            "bin_end": 100,
            "count": 253
           }
          ]
         }
        },
        {
         "name": "_deepnote_index_column",
         "dtype": "object"
        }
       ],
       "rows": [
        {
         "Environment pop_denst": 142.713812806516,
         "Environment fore_area": 21.49109623203,
         "Governance gdp_grow": 9.55083217886229,
         "Governance rate_labor": 81.7441221031477,
         "Social acce_electr": 99.8487243652344,
         "Social life_exp": 74.708,
         "Social unemp_rate": 4.55000019073486,
         "Social acce_fuel_tech": 58,
         "_deepnote_index_column": "('Asia', 'China', '2011')"
        },
        {
         "Environment pop_denst": 143.685196418276,
         "Environment fore_area": 21.6965960161134,
         "Governance gdp_grow": 7.86373644866194,
         "Governance rate_labor": 81.9469830216271,
         "Social acce_electr": 99.9619293212891,
         "Social life_exp": 75.013,
         "Social unemp_rate": 4.57000017166138,
         "Social acce_fuel_tech": 60.7,
         "_deepnote_index_column": "('Asia', 'China', '2012')"
        },
        {
         "Environment pop_denst": 144.645432953933,
         "Environment fore_area": 21.9020948706353,
         "Governance gdp_grow": 7.766150097539,
         "Governance rate_labor": 82.1799369732358,
         "Social acce_electr": 99.9964447021484,
         "Social life_exp": 75.321,
         "Social unemp_rate": 4.59000015258789,
         "Social acce_fuel_tech": 63.2,
         "_deepnote_index_column": "('Asia', 'China', '2013')"
        },
        {
         "Environment pop_denst": 145.5600507997,
         "Environment fore_area": 22.1075946459969,
         "Governance gdp_grow": 7.42576365645755,
         "Governance rate_labor": 82.4316652928031,
         "Social acce_electr": 100,
         "Social life_exp": 75.629,
         "Social unemp_rate": 4.6100001335144,
         "Social acce_fuel_tech": 66,
         "_deepnote_index_column": "('Asia', 'China', '2014')"
        },
        {
         "Environment pop_denst": 146.408882513774,
         "Environment fore_area": 22.3130941846073,
         "Governance gdp_grow": 7.04132887865481,
         "Governance rate_labor": 82.6958614309905,
         "Social acce_electr": 100,
         "Social life_exp": 75.928,
         "Social unemp_rate": 4.63000011444092,
         "Social acce_fuel_tech": 68.4,
         "_deepnote_index_column": "('Asia', 'China', '2015')"
        },
        {
         "Environment pop_denst": 147.25030254277,
         "Environment fore_area": 22.5428773041647,
         "Governance gdp_grow": 6.84876220503246,
         "Governance rate_labor": 82.9766369300248,
         "Social acce_electr": 100,
         "Social life_exp": 76.21,
         "Social unemp_rate": 4.53000020980835,
         "Social acce_fuel_tech": 70.6,
         "_deepnote_index_column": "('Asia', 'China', '2016')"
        },
        {
         "Environment pop_denst": 148.144225437905,
         "Environment fore_area": 22.7423102916965,
         "Governance gdp_grow": 6.94720079327288,
         "Governance rate_labor": 83.28771780074,
         "Social acce_electr": 100,
         "Social life_exp": 76.47,
         "Social unemp_rate": 4.44000005722046,
         "Social acce_fuel_tech": 73.2,
         "_deepnote_index_column": "('Asia', 'China', '2017')"
        },
        {
         "Environment pop_denst": 148.838644027707,
         "Environment fore_area": 22.9417353835101,
         "Governance gdp_grow": 6.74977383247717,
         "Governance rate_labor": 83.6201764878138,
         "Social acce_electr": 100,
         "Social life_exp": 76.704,
         "Social unemp_rate": 4.28000020980835,
         "Social acce_fuel_tech": 75.6,
         "_deepnote_index_column": "('Asia', 'China', '2018')"
        },
        {
         "Environment pop_denst": 149.367573167744,
         "Environment fore_area": 23.1411655427356,
         "Governance gdp_grow": 5.94971423273162,
         "Governance rate_labor": 83.9481461800988,
         "Social acce_electr": 100,
         "Social life_exp": 76.912,
         "Social unemp_rate": 4.51999998092651,
         "Social acce_fuel_tech": 77.6,
         "_deepnote_index_column": "('Asia', 'China', '2019')"
        },
        {
         "Environment pop_denst": 149.705447160568,
         "Environment fore_area": 23.3405957019611,
         "Governance gdp_grow": 2.3475135727457,
         "Governance rate_labor": 83.0106080034161,
         "Social acce_electr": 100,
         "Social life_exp": 77.097,
         "Social unemp_rate": 5,
         "Social acce_fuel_tech": 79.4,
         "_deepnote_index_column": "('Asia', 'China', '2020')"
        }
       ]
      },
      "text/plain": "Topic                               Environment            Governance  \\\nIndicator Name                        pop_denst  fore_area   gdp_grow   \nRegion        Country Name     Year                                     \nAfrica        Congo, Dem. Rep. 2001   21.361917  63.177257  -2.100173   \n                               2002   21.998487  62.880395   2.947765   \n                               2003   22.683921  62.583534   5.577822   \n                               2004   23.408777  62.286672   6.738374   \n                               2005   24.166160  61.989811   6.135151   \n...                                         ...        ...        ...   \nSouth America Brazil           2016   24.666141  60.071033  -3.275917   \n                               2017   24.866038  59.832881   1.322869   \n                               2018   25.061715  59.708428   1.783667   \n                               2019   25.250776  59.558526   1.411153   \n                               2020   25.431425  59.417478  -4.059048   \n\nTopic                                               Social           \\\nIndicator Name                      rate_labor acce_electr life_exp   \nRegion        Country Name     Year                                   \nAfrica        Congo, Dem. Rep. 2001  96.724567    7.314364   50.667   \n                               2002  96.617267    7.915845   51.385   \n                               2003  96.539211    8.512090   52.144   \n                               2004  96.488953    9.105449   52.917   \n                               2005  96.465138    6.000000   53.675   \n...                                        ...         ...      ...   \nSouth America Brazil           2016  70.854286   99.699997   75.230   \n                               2017  72.456906   99.800003   75.456   \n                               2018  73.004277   99.699997   75.672   \n                               2019  73.910763   99.800003   75.881   \n                               2020  70.792654  100.000000   76.084   \n\nTopic                                                          \nIndicator Name                      unemp_rate acce_fuel_tech  \nRegion        Country Name     Year                            \nAfrica        Congo, Dem. Rep. 2001      2.888            1.2  \n                               2002      2.871            1.4  \n                               2003      2.860            1.6  \n                               2004      2.853            1.9  \n                               2005      2.850            2.1  \n...                                        ...            ...  \nSouth America Brazil           2016     11.600           95.7  \n                               2017     12.820           95.7  \n                               2018     12.330           95.8  \n                               2019     11.930           95.8  \n                               2020     13.690           95.9  \n\n[360 rows x 8 columns]",
      "text/html": "<div>\n<style scoped>\n    .dataframe tbody tr th:only-of-type {\n        vertical-align: middle;\n    }\n\n    .dataframe tbody tr th {\n        vertical-align: top;\n    }\n\n    .dataframe thead tr th {\n        text-align: left;\n    }\n\n    .dataframe thead tr:last-of-type th {\n        text-align: right;\n    }\n</style>\n<table border=\"1\" class=\"dataframe\">\n  <thead>\n    <tr>\n      <th></th>\n      <th></th>\n      <th>Topic</th>\n      <th colspan=\"2\" halign=\"left\">Environment</th>\n      <th colspan=\"2\" halign=\"left\">Governance</th>\n      <th colspan=\"4\" halign=\"left\">Social</th>\n    </tr>\n    <tr>\n      <th></th>\n      <th></th>\n      <th>Indicator Name</th>\n      <th>pop_denst</th>\n      <th>fore_area</th>\n      <th>gdp_grow</th>\n      <th>rate_labor</th>\n      <th>acce_electr</th>\n      <th>life_exp</th>\n      <th>unemp_rate</th>\n      <th>acce_fuel_tech</th>\n    </tr>\n    <tr>\n      <th>Region</th>\n      <th>Country Name</th>\n      <th>Year</th>\n      <th></th>\n      <th></th>\n      <th></th>\n      <th></th>\n      <th></th>\n      <th></th>\n      <th></th>\n      <th></th>\n    </tr>\n  </thead>\n  <tbody>\n    <tr>\n      <th rowspan=\"5\" valign=\"top\">Africa</th>\n      <th rowspan=\"5\" valign=\"top\">Congo, Dem. Rep.</th>\n      <th>2001</th>\n      <td>21.361917</td>\n      <td>63.177257</td>\n      <td>-2.100173</td>\n      <td>96.724567</td>\n      <td>7.314364</td>\n      <td>50.667</td>\n      <td>2.888</td>\n      <td>1.2</td>\n    </tr>\n    <tr>\n      <th>2002</th>\n      <td>21.998487</td>\n      <td>62.880395</td>\n      <td>2.947765</td>\n      <td>96.617267</td>\n      <td>7.915845</td>\n      <td>51.385</td>\n      <td>2.871</td>\n      <td>1.4</td>\n    </tr>\n    <tr>\n      <th>2003</th>\n      <td>22.683921</td>\n      <td>62.583534</td>\n      <td>5.577822</td>\n      <td>96.539211</td>\n      <td>8.512090</td>\n      <td>52.144</td>\n      <td>2.860</td>\n      <td>1.6</td>\n    </tr>\n    <tr>\n      <th>2004</th>\n      <td>23.408777</td>\n      <td>62.286672</td>\n      <td>6.738374</td>\n      <td>96.488953</td>\n      <td>9.105449</td>\n      <td>52.917</td>\n      <td>2.853</td>\n      <td>1.9</td>\n    </tr>\n    <tr>\n      <th>2005</th>\n      <td>24.166160</td>\n      <td>61.989811</td>\n      <td>6.135151</td>\n      <td>96.465138</td>\n      <td>6.000000</td>\n      <td>53.675</td>\n      <td>2.850</td>\n      <td>2.1</td>\n    </tr>\n    <tr>\n      <th>...</th>\n      <th>...</th>\n      <th>...</th>\n      <td>...</td>\n      <td>...</td>\n      <td>...</td>\n      <td>...</td>\n      <td>...</td>\n      <td>...</td>\n      <td>...</td>\n      <td>...</td>\n    </tr>\n    <tr>\n      <th rowspan=\"5\" valign=\"top\">South America</th>\n      <th rowspan=\"5\" valign=\"top\">Brazil</th>\n      <th>2016</th>\n      <td>24.666141</td>\n      <td>60.071033</td>\n      <td>-3.275917</td>\n      <td>70.854286</td>\n      <td>99.699997</td>\n      <td>75.230</td>\n      <td>11.600</td>\n      <td>95.7</td>\n    </tr>\n    <tr>\n      <th>2017</th>\n      <td>24.866038</td>\n      <td>59.832881</td>\n      <td>1.322869</td>\n      <td>72.456906</td>\n      <td>99.800003</td>\n      <td>75.456</td>\n      <td>12.820</td>\n      <td>95.7</td>\n    </tr>\n    <tr>\n      <th>2018</th>\n      <td>25.061715</td>\n      <td>59.708428</td>\n      <td>1.783667</td>\n      <td>73.004277</td>\n      <td>99.699997</td>\n      <td>75.672</td>\n      <td>12.330</td>\n      <td>95.8</td>\n    </tr>\n    <tr>\n      <th>2019</th>\n      <td>25.250776</td>\n      <td>59.558526</td>\n      <td>1.411153</td>\n      <td>73.910763</td>\n      <td>99.800003</td>\n      <td>75.881</td>\n      <td>11.930</td>\n      <td>95.8</td>\n    </tr>\n    <tr>\n      <th>2020</th>\n      <td>25.431425</td>\n      <td>59.417478</td>\n      <td>-4.059048</td>\n      <td>70.792654</td>\n      <td>100.000000</td>\n      <td>76.084</td>\n      <td>13.690</td>\n      <td>95.9</td>\n    </tr>\n  </tbody>\n</table>\n<p>360 rows × 8 columns</p>\n</div>"
     },
     "metadata": {}
    }
   ]
  },
  {
   "cell_type": "code",
   "metadata": {
    "cell_id": "3ff7453f9e0945ca995321a669bc3bff",
    "tags": [],
    "deepnote_to_be_reexecuted": false,
    "source_hash": "8e52190d",
    "execution_start": 1654585906082,
    "execution_millis": 74,
    "deepnote_cell_type": "code",
    "deepnote_cell_height": 600
   },
   "source": "data.reset_index()",
   "execution_count": null,
   "outputs": [
    {
     "output_type": "execute_result",
     "execution_count": 4,
     "data": {
      "application/vnd.deepnote.dataframe.v3+json": {
       "column_count": 11,
       "row_count": 360,
       "columns": [
        {
         "name": "Region ",
         "dtype": "object",
         "stats": {
          "unique_count": 6,
          "nan_count": 0,
          "categories": [
           {
            "name": "Europe",
            "count": 100
           },
           {
            "name": "Africa",
            "count": 60
           },
           {
            "name": "4 others",
            "count": 200
           }
          ]
         }
        },
        {
         "name": "Country Name ",
         "dtype": "object",
         "stats": {
          "unique_count": 18,
          "nan_count": 0,
          "categories": [
           {
            "name": "Congo, Dem. Rep.",
            "count": 20
           },
           {
            "name": "Egypt, Arab Rep.",
            "count": 20
           },
           {
            "name": "16 others",
            "count": 320
           }
          ]
         }
        },
        {
         "name": "Year ",
         "dtype": "object",
         "stats": {
          "unique_count": 20,
          "nan_count": 0,
          "categories": [
           {
            "name": "2001",
            "count": 18
           },
           {
            "name": "2002",
            "count": 18
           },
           {
            "name": "18 others",
            "count": 324
           }
          ]
         }
        },
        {
         "name": "Environment pop_denst",
         "dtype": "float64",
         "stats": {
          "unique_count": 359,
          "nan_count": 0,
          "min": "2.52697759785481",
          "max": "464.149410229417",
          "histogram": [
           {
            "bin_start": 2.52697759785481,
            "bin_end": 48.68922086101103,
            "count": 197
           },
           {
            "bin_start": 48.68922086101103,
            "bin_end": 94.85146412416725,
            "count": 18
           },
           {
            "bin_start": 94.85146412416725,
            "bin_end": 141.01370738732348,
            "count": 33
           },
           {
            "bin_start": 141.01370738732348,
            "bin_end": 187.1759506504797,
            "count": 12
           },
           {
            "bin_start": 187.1759506504797,
            "bin_end": 233.33819391363593,
            "count": 24
           },
           {
            "bin_start": 233.33819391363593,
            "bin_end": 279.5004371767921,
            "count": 36
           },
           {
            "bin_start": 279.5004371767921,
            "bin_end": 325.66268043994836,
            "count": 0
           },
           {
            "bin_start": 325.66268043994836,
            "bin_end": 371.82492370310456,
            "count": 22
           },
           {
            "bin_start": 371.82492370310456,
            "bin_end": 417.98716696626076,
            "count": 8
           },
           {
            "bin_start": 417.98716696626076,
            "bin_end": 464.149410229417,
            "count": 10
           }
          ]
         }
        },
        {
         "name": "Environment fore_area",
         "dtype": "float64",
         "stats": {
          "unique_count": 342,
          "nan_count": 0,
          "min": "0.0451855944547692",
          "max": "68.4938271604938",
          "histogram": [
           {
            "bin_start": 0.0451855944547692,
            "bin_end": 6.890049751058672,
            "count": 20
           },
           {
            "bin_start": 6.890049751058672,
            "bin_end": 13.734913907662575,
            "count": 40
           },
           {
            "bin_start": 13.734913907662575,
            "bin_end": 20.579778064266474,
            "count": 47
           },
           {
            "bin_start": 20.579778064266474,
            "bin_end": 27.42464222087038,
            "count": 33
           },
           {
            "bin_start": 27.42464222087038,
            "bin_end": 34.269506377474286,
            "count": 80
           },
           {
            "bin_start": 34.269506377474286,
            "bin_end": 41.11437053407818,
            "count": 40
           },
           {
            "bin_start": 41.11437053407818,
            "bin_end": 47.95923469068209,
            "count": 0
           },
           {
            "bin_start": 47.95923469068209,
            "bin_end": 54.80409884728599,
            "count": 20
           },
           {
            "bin_start": 54.80409884728599,
            "bin_end": 61.6489630038899,
            "count": 42
           },
           {
            "bin_start": 61.6489630038899,
            "bin_end": 68.4938271604938,
            "count": 38
           }
          ]
         }
        },
        {
         "name": "Governance gdp_grow",
         "dtype": "float64",
         "stats": {
          "unique_count": 360,
          "nan_count": 0,
          "min": "-15.7118039805906",
          "max": "14.2308609330803",
          "histogram": [
           {
            "bin_start": -15.7118039805906,
            "bin_end": -12.71753748922351,
            "count": 1
           },
           {
            "bin_start": -12.71753748922351,
            "bin_end": -9.723270997856421,
            "count": 2
           },
           {
            "bin_start": -9.723270997856421,
            "bin_end": -6.72900450648933,
            "count": 5
           },
           {
            "bin_start": -6.72900450648933,
            "bin_end": -3.7347380151222396,
            "count": 11
           },
           {
            "bin_start": -3.7347380151222396,
            "bin_end": -0.7404715237551489,
            "count": 22
           },
           {
            "bin_start": -0.7404715237551489,
            "bin_end": 2.25379496761194,
            "count": 124
           },
           {
            "bin_start": 2.25379496761194,
            "bin_end": 5.248061458979032,
            "count": 122
           },
           {
            "bin_start": 5.248061458979032,
            "bin_end": 8.242327950346121,
            "count": 52
           },
           {
            "bin_start": 8.242327950346121,
            "bin_end": 11.23659444171321,
            "count": 18
           },
           {
            "bin_start": 11.23659444171321,
            "bin_end": 14.2308609330803,
            "count": 3
           }
          ]
         }
        },
        {
         "name": "Governance rate_labor",
         "dtype": "float64",
         "stats": {
          "unique_count": 360,
          "nan_count": 0,
          "min": "23.0286838488384",
          "max": "96.7245672518216",
          "histogram": [
           {
            "bin_start": 23.0286838488384,
            "bin_end": 30.39827218913672,
            "count": 21
           },
           {
            "bin_start": 30.39827218913672,
            "bin_end": 37.76786052943504,
            "count": 15
           },
           {
            "bin_start": 37.76786052943504,
            "bin_end": 45.13744886973336,
            "count": 5
           },
           {
            "bin_start": 45.13744886973336,
            "bin_end": 52.50703721003168,
            "count": 13
           },
           {
            "bin_start": 52.50703721003168,
            "bin_end": 59.876625550330004,
            "count": 8
           },
           {
            "bin_start": 59.876625550330004,
            "bin_end": 67.24621389062831,
            "count": 35
           },
           {
            "bin_start": 67.24621389062831,
            "bin_end": 74.61580223092663,
            "count": 53
           },
           {
            "bin_start": 74.61580223092663,
            "bin_end": 81.98539057122495,
            "count": 92
           },
           {
            "bin_start": 81.98539057122495,
            "bin_end": 89.35497891152328,
            "count": 99
           },
           {
            "bin_start": 89.35497891152328,
            "bin_end": 96.7245672518216,
            "count": 19
           }
          ]
         }
        },
        {
         "name": "Social acce_electr",
         "dtype": "float64",
         "stats": {
          "unique_count": 136,
          "nan_count": 0,
          "min": "6.0",
          "max": "100.0",
          "histogram": [
           {
            "bin_start": 6,
            "bin_end": 15.4,
            "count": 14
           },
           {
            "bin_start": 15.4,
            "bin_end": 24.8,
            "count": 6
           },
           {
            "bin_start": 24.8,
            "bin_end": 34.2,
            "count": 0
           },
           {
            "bin_start": 34.2,
            "bin_end": 43.6,
            "count": 0
           },
           {
            "bin_start": 43.6,
            "bin_end": 53,
            "count": 0
           },
           {
            "bin_start": 53,
            "bin_end": 62.400000000000006,
            "count": 2
           },
           {
            "bin_start": 62.400000000000006,
            "bin_end": 71.8,
            "count": 7
           },
           {
            "bin_start": 71.8,
            "bin_end": 81.2,
            "count": 13
           },
           {
            "bin_start": 81.2,
            "bin_end": 90.60000000000001,
            "count": 25
           },
           {
            "bin_start": 90.60000000000001,
            "bin_end": 100,
            "count": 293
           }
          ]
         }
        },
        {
         "name": "Social life_exp",
         "dtype": "float64",
         "stats": {
          "unique_count": 345,
          "nan_count": 0,
          "min": "50.667",
          "max": "84.6156097560976",
          "histogram": [
           {
            "bin_start": 50.667,
            "bin_end": 54.06186097560976,
            "count": 9
           },
           {
            "bin_start": 54.06186097560976,
            "bin_end": 57.45672195121952,
            "count": 11
           },
           {
            "bin_start": 57.45672195121952,
            "bin_end": 60.85158292682928,
            "count": 11
           },
           {
            "bin_start": 60.85158292682928,
            "bin_end": 64.24644390243904,
            "count": 12
           },
           {
            "bin_start": 64.24644390243904,
            "bin_end": 67.6413048780488,
            "count": 36
           },
           {
            "bin_start": 67.6413048780488,
            "bin_end": 71.03616585365856,
            "count": 30
           },
           {
            "bin_start": 71.03616585365856,
            "bin_end": 74.43102682926832,
            "count": 37
           },
           {
            "bin_start": 74.43102682926832,
            "bin_end": 77.82588780487808,
            "count": 41
           },
           {
            "bin_start": 77.82588780487808,
            "bin_end": 81.22074878048784,
            "count": 89
           },
           {
            "bin_start": 81.22074878048784,
            "bin_end": 84.6156097560976,
            "count": 84
           }
          ]
         }
        },
        {
         "name": "Social unemp_rate",
         "dtype": "float64",
         "stats": {
          "unique_count": 311,
          "nan_count": 0,
          "min": "2.40000009536743",
          "max": "33.2900009155273",
          "histogram": [
           {
            "bin_start": 2.40000009536743,
            "bin_end": 5.489000177383417,
            "count": 152
           },
           {
            "bin_start": 5.489000177383417,
            "bin_end": 8.578000259399403,
            "count": 114
           },
           {
            "bin_start": 8.578000259399403,
            "bin_end": 11.66700034141539,
            "count": 55
           },
           {
            "bin_start": 11.66700034141539,
            "bin_end": 14.756000423431377,
            "count": 16
           },
           {
            "bin_start": 14.756000423431377,
            "bin_end": 17.845000505447366,
            "count": 2
           },
           {
            "bin_start": 17.845000505447366,
            "bin_end": 20.934000587463352,
            "count": 1
           },
           {
            "bin_start": 20.934000587463352,
            "bin_end": 24.023000669479337,
            "count": 2
           },
           {
            "bin_start": 24.023000669479337,
            "bin_end": 27.112000751495323,
            "count": 10
           },
           {
            "bin_start": 27.112000751495323,
            "bin_end": 30.20100083351131,
            "count": 5
           },
           {
            "bin_start": 30.20100083351131,
            "bin_end": 33.2900009155273,
            "count": 3
           }
          ]
         }
        },
        {
         "name": "Social acce_fuel_tech",
         "dtype": "float64",
         "stats": {
          "unique_count": 151,
          "nan_count": 0,
          "min": "1.2",
          "max": "100.0",
          "histogram": [
           {
            "bin_start": 1.2,
            "bin_end": 11.079999999999998,
            "count": 20
           },
           {
            "bin_start": 11.079999999999998,
            "bin_end": 20.959999999999997,
            "count": 0
           },
           {
            "bin_start": 20.959999999999997,
            "bin_end": 30.839999999999996,
            "count": 15
           },
           {
            "bin_start": 30.839999999999996,
            "bin_end": 40.72,
            "count": 12
           },
           {
            "bin_start": 40.72,
            "bin_end": 50.599999999999994,
            "count": 14
           },
           {
            "bin_start": 50.599999999999994,
            "bin_end": 60.48,
            "count": 10
           },
           {
            "bin_start": 60.48,
            "bin_end": 70.36,
            "count": 10
           },
           {
            "bin_start": 70.36,
            "bin_end": 80.24,
            "count": 11
           },
           {
            "bin_start": 80.24,
            "bin_end": 90.11999999999999,
            "count": 15
           },
           {
            "bin_start": 90.11999999999999,
            "bin_end": 100,
            "count": 253
           }
          ]
         }
        },
        {
         "name": "_deepnote_index_column",
         "dtype": "int64"
        }
       ],
       "rows": [
        {
         "Region ": "Africa",
         "Country Name ": "Congo, Dem. Rep.",
         "Year ": "2001",
         "Environment pop_denst": 21.3619170287378,
         "Environment fore_area": 63.1772567874551,
         "Governance gdp_grow": -2.10017302488846,
         "Governance rate_labor": 96.7245672518216,
         "Social acce_electr": 7.31436443328857,
         "Social life_exp": 50.667,
         "Social unemp_rate": 2.88800001144409,
         "Social acce_fuel_tech": 1.2,
         "_deepnote_index_column": 0
        },
        {
         "Region ": "Africa",
         "Country Name ": "Congo, Dem. Rep.",
         "Year ": "2002",
         "Environment pop_denst": 21.9984870205774,
         "Environment fore_area": 62.8803952272777,
         "Governance gdp_grow": 2.94776518359767,
         "Governance rate_labor": 96.6172666749281,
         "Social acce_electr": 7.91584491729736,
         "Social life_exp": 51.385,
         "Social unemp_rate": 2.87100005149841,
         "Social acce_fuel_tech": 1.4,
         "_deepnote_index_column": 1
        },
        {
         "Region ": "Africa",
         "Country Name ": "Congo, Dem. Rep.",
         "Year ": "2003",
         "Environment pop_denst": 22.6839209545445,
         "Environment fore_area": 62.5835336671004,
         "Governance gdp_grow": 5.57782231144424,
         "Governance rate_labor": 96.5392106215633,
         "Social acce_electr": 8.51208972930908,
         "Social life_exp": 52.144,
         "Social unemp_rate": 2.85999989509583,
         "Social acce_fuel_tech": 1.6,
         "_deepnote_index_column": 2
        },
        {
         "Region ": "Africa",
         "Country Name ": "Congo, Dem. Rep.",
         "Year ": "2004",
         "Environment pop_denst": 23.4087774861604,
         "Environment fore_area": 62.2866721069231,
         "Governance gdp_grow": 6.73837393324294,
         "Governance rate_labor": 96.4889530137629,
         "Social acce_electr": 9.10544872283936,
         "Social life_exp": 52.917,
         "Social unemp_rate": 2.8529999256134,
         "Social acce_fuel_tech": 1.9,
         "_deepnote_index_column": 3
        },
        {
         "Region ": "Africa",
         "Country Name ": "Congo, Dem. Rep.",
         "Year ": "2005",
         "Environment pop_denst": 24.166160428751,
         "Environment fore_area": 61.9898105467458,
         "Governance gdp_grow": 6.13515115548972,
         "Governance rate_labor": 96.4651380598464,
         "Social acce_electr": 6,
         "Social life_exp": 53.675,
         "Social unemp_rate": 2.84999990463257,
         "Social acce_fuel_tech": 2.1,
         "_deepnote_index_column": 4
        },
        {
         "Region ": "Africa",
         "Country Name ": "Congo, Dem. Rep.",
         "Year ": "2006",
         "Environment pop_denst": 24.9566820317152,
         "Environment fore_area": 61.6929489865685,
         "Governance gdp_grow": 5.32097956548998,
         "Governance rate_labor": 95.6038096158406,
         "Social acce_electr": 10.2929649353027,
         "Social life_exp": 54.401,
         "Social unemp_rate": 3.08299994468689,
         "Social acce_fuel_tech": 2.4,
         "_deepnote_index_column": 5
        },
        {
         "Region ": "Africa",
         "Country Name ": "Congo, Dem. Rep.",
         "Year ": "2007",
         "Environment pop_denst": 25.7840307889107,
         "Environment fore_area": 61.3960874263911,
         "Governance gdp_grow": 6.25947776437397,
         "Governance rate_labor": 94.7010065158365,
         "Social acce_electr": 15.1999998092651,
         "Social life_exp": 55.091,
         "Social unemp_rate": 3.31299996376038,
         "Social acce_fuel_tech": 2.7,
         "_deepnote_index_column": 6
        },
        {
         "Region ": "Africa",
         "Country Name ": "Congo, Dem. Rep.",
         "Year ": "2008",
         "Environment pop_denst": 26.6474912331003,
         "Environment fore_area": 61.0992258662138,
         "Governance gdp_grow": 6.22589426869193,
         "Governance rate_labor": 93.7595340980291,
         "Social acce_electr": 11.4986276626587,
         "Social life_exp": 55.743,
         "Social unemp_rate": 3.54699993133545,
         "Social acce_fuel_tech": 2.9,
         "_deepnote_index_column": 7
        },
        {
         "Region ": "Africa",
         "Country Name ": "Congo, Dem. Rep.",
         "Year ": "2009",
         "Environment pop_denst": 27.5461820427428,
         "Environment fore_area": 60.8023643060365,
         "Governance gdp_grow": 2.85506401011484,
         "Governance rate_labor": 92.7768447865109,
         "Social acce_electr": 12.1150150299072,
         "Social life_exp": 56.35,
         "Social unemp_rate": 3.79299998283386,
         "Social acce_fuel_tech": 3.1,
         "_deepnote_index_column": 8
        },
        {
         "Region ": "Africa",
         "Country Name ": "Congo, Dem. Rep.",
         "Year ": "2010",
         "Environment pop_denst": 28.4792364526587,
         "Environment fore_area": 60.5055027458592,
         "Governance gdp_grow": 7.10797657581392,
         "Governance rate_labor": 91.7557311361755,
         "Social acce_electr": 12.7440509796143,
         "Social life_exp": 56.909,
         "Social unemp_rate": 4.01399993896484,
         "Social acce_fuel_tech": 3.2,
         "_deepnote_index_column": 9
        }
       ]
      },
      "text/plain": "Topic                  Region      Country Name  Year Environment             \\\nIndicator Name                                          pop_denst  fore_area   \n0                      Africa  Congo, Dem. Rep.  2001   21.361917  63.177257   \n1                      Africa  Congo, Dem. Rep.  2002   21.998487  62.880395   \n2                      Africa  Congo, Dem. Rep.  2003   22.683921  62.583534   \n3                      Africa  Congo, Dem. Rep.  2004   23.408777  62.286672   \n4                      Africa  Congo, Dem. Rep.  2005   24.166160  61.989811   \n..                        ...               ...   ...         ...        ...   \n355             South America            Brazil  2016   24.666141  60.071033   \n356             South America            Brazil  2017   24.866038  59.832881   \n357             South America            Brazil  2018   25.061715  59.708428   \n358             South America            Brazil  2019   25.250776  59.558526   \n359             South America            Brazil  2020   25.431425  59.417478   \n\nTopic          Governance                 Social                      \\\nIndicator Name   gdp_grow rate_labor acce_electr life_exp unemp_rate   \n0               -2.100173  96.724567    7.314364   50.667      2.888   \n1                2.947765  96.617267    7.915845   51.385      2.871   \n2                5.577822  96.539211    8.512090   52.144      2.860   \n3                6.738374  96.488953    9.105449   52.917      2.853   \n4                6.135151  96.465138    6.000000   53.675      2.850   \n..                    ...        ...         ...      ...        ...   \n355             -3.275917  70.854286   99.699997   75.230     11.600   \n356              1.322869  72.456906   99.800003   75.456     12.820   \n357              1.783667  73.004277   99.699997   75.672     12.330   \n358              1.411153  73.910763   99.800003   75.881     11.930   \n359             -4.059048  70.792654  100.000000   76.084     13.690   \n\nTopic                          \nIndicator Name acce_fuel_tech  \n0                         1.2  \n1                         1.4  \n2                         1.6  \n3                         1.9  \n4                         2.1  \n..                        ...  \n355                      95.7  \n356                      95.7  \n357                      95.8  \n358                      95.8  \n359                      95.9  \n\n[360 rows x 11 columns]",
      "text/html": "<div>\n<style scoped>\n    .dataframe tbody tr th:only-of-type {\n        vertical-align: middle;\n    }\n\n    .dataframe tbody tr th {\n        vertical-align: top;\n    }\n\n    .dataframe thead tr th {\n        text-align: left;\n    }\n</style>\n<table border=\"1\" class=\"dataframe\">\n  <thead>\n    <tr>\n      <th>Topic</th>\n      <th>Region</th>\n      <th>Country Name</th>\n      <th>Year</th>\n      <th colspan=\"2\" halign=\"left\">Environment</th>\n      <th colspan=\"2\" halign=\"left\">Governance</th>\n      <th colspan=\"4\" halign=\"left\">Social</th>\n    </tr>\n    <tr>\n      <th>Indicator Name</th>\n      <th></th>\n      <th></th>\n      <th></th>\n      <th>pop_denst</th>\n      <th>fore_area</th>\n      <th>gdp_grow</th>\n      <th>rate_labor</th>\n      <th>acce_electr</th>\n      <th>life_exp</th>\n      <th>unemp_rate</th>\n      <th>acce_fuel_tech</th>\n    </tr>\n  </thead>\n  <tbody>\n    <tr>\n      <th>0</th>\n      <td>Africa</td>\n      <td>Congo, Dem. Rep.</td>\n      <td>2001</td>\n      <td>21.361917</td>\n      <td>63.177257</td>\n      <td>-2.100173</td>\n      <td>96.724567</td>\n      <td>7.314364</td>\n      <td>50.667</td>\n      <td>2.888</td>\n      <td>1.2</td>\n    </tr>\n    <tr>\n      <th>1</th>\n      <td>Africa</td>\n      <td>Congo, Dem. Rep.</td>\n      <td>2002</td>\n      <td>21.998487</td>\n      <td>62.880395</td>\n      <td>2.947765</td>\n      <td>96.617267</td>\n      <td>7.915845</td>\n      <td>51.385</td>\n      <td>2.871</td>\n      <td>1.4</td>\n    </tr>\n    <tr>\n      <th>2</th>\n      <td>Africa</td>\n      <td>Congo, Dem. Rep.</td>\n      <td>2003</td>\n      <td>22.683921</td>\n      <td>62.583534</td>\n      <td>5.577822</td>\n      <td>96.539211</td>\n      <td>8.512090</td>\n      <td>52.144</td>\n      <td>2.860</td>\n      <td>1.6</td>\n    </tr>\n    <tr>\n      <th>3</th>\n      <td>Africa</td>\n      <td>Congo, Dem. Rep.</td>\n      <td>2004</td>\n      <td>23.408777</td>\n      <td>62.286672</td>\n      <td>6.738374</td>\n      <td>96.488953</td>\n      <td>9.105449</td>\n      <td>52.917</td>\n      <td>2.853</td>\n      <td>1.9</td>\n    </tr>\n    <tr>\n      <th>4</th>\n      <td>Africa</td>\n      <td>Congo, Dem. Rep.</td>\n      <td>2005</td>\n      <td>24.166160</td>\n      <td>61.989811</td>\n      <td>6.135151</td>\n      <td>96.465138</td>\n      <td>6.000000</td>\n      <td>53.675</td>\n      <td>2.850</td>\n      <td>2.1</td>\n    </tr>\n    <tr>\n      <th>...</th>\n      <td>...</td>\n      <td>...</td>\n      <td>...</td>\n      <td>...</td>\n      <td>...</td>\n      <td>...</td>\n      <td>...</td>\n      <td>...</td>\n      <td>...</td>\n      <td>...</td>\n      <td>...</td>\n    </tr>\n    <tr>\n      <th>355</th>\n      <td>South America</td>\n      <td>Brazil</td>\n      <td>2016</td>\n      <td>24.666141</td>\n      <td>60.071033</td>\n      <td>-3.275917</td>\n      <td>70.854286</td>\n      <td>99.699997</td>\n      <td>75.230</td>\n      <td>11.600</td>\n      <td>95.7</td>\n    </tr>\n    <tr>\n      <th>356</th>\n      <td>South America</td>\n      <td>Brazil</td>\n      <td>2017</td>\n      <td>24.866038</td>\n      <td>59.832881</td>\n      <td>1.322869</td>\n      <td>72.456906</td>\n      <td>99.800003</td>\n      <td>75.456</td>\n      <td>12.820</td>\n      <td>95.7</td>\n    </tr>\n    <tr>\n      <th>357</th>\n      <td>South America</td>\n      <td>Brazil</td>\n      <td>2018</td>\n      <td>25.061715</td>\n      <td>59.708428</td>\n      <td>1.783667</td>\n      <td>73.004277</td>\n      <td>99.699997</td>\n      <td>75.672</td>\n      <td>12.330</td>\n      <td>95.8</td>\n    </tr>\n    <tr>\n      <th>358</th>\n      <td>South America</td>\n      <td>Brazil</td>\n      <td>2019</td>\n      <td>25.250776</td>\n      <td>59.558526</td>\n      <td>1.411153</td>\n      <td>73.910763</td>\n      <td>99.800003</td>\n      <td>75.881</td>\n      <td>11.930</td>\n      <td>95.8</td>\n    </tr>\n    <tr>\n      <th>359</th>\n      <td>South America</td>\n      <td>Brazil</td>\n      <td>2020</td>\n      <td>25.431425</td>\n      <td>59.417478</td>\n      <td>-4.059048</td>\n      <td>70.792654</td>\n      <td>100.000000</td>\n      <td>76.084</td>\n      <td>13.690</td>\n      <td>95.9</td>\n    </tr>\n  </tbody>\n</table>\n<p>360 rows × 11 columns</p>\n</div>"
     },
     "metadata": {}
    }
   ]
  },
  {
   "cell_type": "code",
   "metadata": {
    "cell_id": "fce2682a86754e14a9c0f76650ab0677",
    "tags": [],
    "deepnote_to_be_reexecuted": false,
    "source_hash": "2aa56b1c",
    "execution_start": 1654585934428,
    "execution_millis": 419,
    "deepnote_cell_type": "code",
    "deepnote_cell_height": 180.1875
   },
   "source": "# correlation\ncorr_mx = diatoms.drop(columns = ['Depth', 'Age']).corr() \ncorr_mx",
   "execution_count": null,
   "outputs": [
    {
     "output_type": "error",
     "ename": "NameError",
     "evalue": "name 'diatoms' is not defined",
     "traceback": [
      "\u001b[0;31m---------------------------------------------------------------------------\u001b[0m",
      "\u001b[0;31mNameError\u001b[0m                                 Traceback (most recent call last)",
      "\u001b[0;32m<ipython-input-6-4cd1c55e31a4>\u001b[0m in \u001b[0;36m<module>\u001b[0;34m\u001b[0m\n\u001b[1;32m      1\u001b[0m \u001b[0;31m# correlation\u001b[0m\u001b[0;34m\u001b[0m\u001b[0;34m\u001b[0m\u001b[0;34m\u001b[0m\u001b[0m\n\u001b[0;32m----> 2\u001b[0;31m \u001b[0mcorr_mx\u001b[0m \u001b[0;34m=\u001b[0m \u001b[0mdiatoms\u001b[0m\u001b[0;34m.\u001b[0m\u001b[0mdrop\u001b[0m\u001b[0;34m(\u001b[0m\u001b[0mcolumns\u001b[0m \u001b[0;34m=\u001b[0m \u001b[0;34m[\u001b[0m\u001b[0;34m'Depth'\u001b[0m\u001b[0;34m,\u001b[0m \u001b[0;34m'Age'\u001b[0m\u001b[0;34m]\u001b[0m\u001b[0;34m)\u001b[0m\u001b[0;34m.\u001b[0m\u001b[0mcorr\u001b[0m\u001b[0;34m(\u001b[0m\u001b[0;34m)\u001b[0m\u001b[0;34m\u001b[0m\u001b[0;34m\u001b[0m\u001b[0m\n\u001b[0m\u001b[1;32m      3\u001b[0m \u001b[0mcorr_mx\u001b[0m\u001b[0;34m\u001b[0m\u001b[0;34m\u001b[0m\u001b[0m\n",
      "\u001b[0;31mNameError\u001b[0m: name 'diatoms' is not defined"
     ]
    }
   ]
  },
  {
   "cell_type": "code",
   "metadata": {
    "cell_id": "30f7291312ac4938a0af6eb8a0179a31",
    "tags": [],
    "deepnote_to_be_reexecuted": false,
    "source_hash": "b623e53d",
    "execution_start": 1654585938420,
    "execution_millis": 0,
    "owner_user_id": "3f868618-80de-45b7-8d06-fc3da6f5f723",
    "deepnote_cell_type": "code",
    "deepnote_cell_height": 81
   },
   "source": "",
   "execution_count": null,
   "outputs": []
  },
  {
   "cell_type": "code",
   "metadata": {
    "cell_id": "eadd68d51e514297974dcf1f41823815",
    "tags": [],
    "deepnote_to_be_reexecuted": false,
    "source_hash": "7e9b6a2e",
    "execution_start": 1654585941474,
    "execution_millis": 23,
    "deepnote_cell_type": "code",
    "deepnote_cell_height": 324.1875
   },
   "source": "# Heat Map\ncorr_mx = x_mx.corr()\nalt.Chart().mark_rect().encode(\n    x = alt.X('col', title = '', sort = {'field': 'Correlation', 'order': 'ascending'}), \n    y = alt.Y('row', title = '', sort = {'field': 'Correlation', 'order': 'ascending'}),\n    color = alt.Color('Correlation', \n                      scale = alt.Scale(scheme = 'blueorange', # diverging gradient\n                                        domain = (-1, 1), # ensure white = 0\n                                        type = 'sqrt'), # adjust gradient scale\n                     legend = alt.Legend(tickCount = 5)) # add ticks to colorbar at 0.5 for reference\n).properties(width = 300, height = 300)",
   "execution_count": null,
   "outputs": [
    {
     "output_type": "error",
     "ename": "NameError",
     "evalue": "name 'x_mx' is not defined",
     "traceback": [
      "\u001b[0;31m---------------------------------------------------------------------------\u001b[0m",
      "\u001b[0;31mNameError\u001b[0m                                 Traceback (most recent call last)",
      "\u001b[0;32m<ipython-input-7-f2ec5c5c24a8>\u001b[0m in \u001b[0;36m<module>\u001b[0;34m\u001b[0m\n\u001b[1;32m      1\u001b[0m \u001b[0;31m# Heat Map\u001b[0m\u001b[0;34m\u001b[0m\u001b[0;34m\u001b[0m\u001b[0;34m\u001b[0m\u001b[0m\n\u001b[0;32m----> 2\u001b[0;31m \u001b[0mcorr_mx\u001b[0m \u001b[0;34m=\u001b[0m \u001b[0mx_mx\u001b[0m\u001b[0;34m.\u001b[0m\u001b[0mcorr\u001b[0m\u001b[0;34m(\u001b[0m\u001b[0;34m)\u001b[0m\u001b[0;34m\u001b[0m\u001b[0;34m\u001b[0m\u001b[0m\n\u001b[0m\u001b[1;32m      3\u001b[0m alt.Chart().mark_rect().encode(\n\u001b[1;32m      4\u001b[0m     \u001b[0mx\u001b[0m \u001b[0;34m=\u001b[0m \u001b[0malt\u001b[0m\u001b[0;34m.\u001b[0m\u001b[0mX\u001b[0m\u001b[0;34m(\u001b[0m\u001b[0;34m'col'\u001b[0m\u001b[0;34m,\u001b[0m \u001b[0mtitle\u001b[0m \u001b[0;34m=\u001b[0m \u001b[0;34m''\u001b[0m\u001b[0;34m,\u001b[0m \u001b[0msort\u001b[0m \u001b[0;34m=\u001b[0m \u001b[0;34m{\u001b[0m\u001b[0;34m'field'\u001b[0m\u001b[0;34m:\u001b[0m \u001b[0;34m'Correlation'\u001b[0m\u001b[0;34m,\u001b[0m \u001b[0;34m'order'\u001b[0m\u001b[0;34m:\u001b[0m \u001b[0;34m'ascending'\u001b[0m\u001b[0;34m}\u001b[0m\u001b[0;34m)\u001b[0m\u001b[0;34m,\u001b[0m\u001b[0;34m\u001b[0m\u001b[0;34m\u001b[0m\u001b[0m\n\u001b[1;32m      5\u001b[0m     \u001b[0my\u001b[0m \u001b[0;34m=\u001b[0m \u001b[0malt\u001b[0m\u001b[0;34m.\u001b[0m\u001b[0mY\u001b[0m\u001b[0;34m(\u001b[0m\u001b[0;34m'row'\u001b[0m\u001b[0;34m,\u001b[0m \u001b[0mtitle\u001b[0m \u001b[0;34m=\u001b[0m \u001b[0;34m''\u001b[0m\u001b[0;34m,\u001b[0m \u001b[0msort\u001b[0m \u001b[0;34m=\u001b[0m \u001b[0;34m{\u001b[0m\u001b[0;34m'field'\u001b[0m\u001b[0;34m:\u001b[0m \u001b[0;34m'Correlation'\u001b[0m\u001b[0;34m,\u001b[0m \u001b[0;34m'order'\u001b[0m\u001b[0;34m:\u001b[0m \u001b[0;34m'ascending'\u001b[0m\u001b[0;34m}\u001b[0m\u001b[0;34m)\u001b[0m\u001b[0;34m,\u001b[0m\u001b[0;34m\u001b[0m\u001b[0;34m\u001b[0m\u001b[0m\n",
      "\u001b[0;31mNameError\u001b[0m: name 'x_mx' is not defined"
     ]
    }
   ]
  },
  {
   "cell_type": "code",
   "metadata": {
    "cell_id": "26b9b62fa8c74050ba4e3f15bcd32d2a",
    "tags": [],
    "deepnote_to_be_reexecuted": true,
    "source_hash": "56487fdd",
    "owner_user_id": "5a285f49-d522-4725-aea5-910ffe616eab",
    "deepnote_cell_type": "code",
    "deepnote_cell_height": 99
   },
   "source": "# Average value for every 5 years, and compute each values into 3 difference levels (1-low, 2-medium, 3-high)\n",
   "execution_count": null,
   "outputs": []
  },
  {
   "cell_type": "code",
   "metadata": {
    "cell_id": "be0fb812ee0741f4a214bfb6012e4182",
    "tags": [],
    "deepnote_to_be_reexecuted": true,
    "source_hash": "3fe393bf",
    "deepnote_cell_type": "code",
    "deepnote_cell_height": 99
   },
   "source": "# multiple linear regression\n",
   "execution_count": null,
   "outputs": []
  },
  {
   "cell_type": "markdown",
   "source": "<a style='text-decoration:none;line-height:16px;display:flex;color:#5B5B62;padding:10px;justify-content:end;' href='https://deepnote.com?utm_source=created-in-deepnote-cell&projectId=59144ecd-8932-4795-927c-6a7d21b33446' target=\"_blank\">\n<img alt='Created in deepnote.com' style='display:inline;max-height:16px;margin:0px;margin-right:7.5px;' src='data:image/svg+xml;base64,PD94bWwgdmVyc2lvbj0iMS4wIiBlbmNvZGluZz0iVVRGLTgiPz4KPHN2ZyB3aWR0aD0iODBweCIgaGVpZ2h0PSI4MHB4IiB2aWV3Qm94PSIwIDAgODAgODAiIHZlcnNpb249IjEuMSIgeG1sbnM9Imh0dHA6Ly93d3cudzMub3JnLzIwMDAvc3ZnIiB4bWxuczp4bGluaz0iaHR0cDovL3d3dy53My5vcmcvMTk5OS94bGluayI+CiAgICA8IS0tIEdlbmVyYXRvcjogU2tldGNoIDU0LjEgKDc2NDkwKSAtIGh0dHBzOi8vc2tldGNoYXBwLmNvbSAtLT4KICAgIDx0aXRsZT5Hcm91cCAzPC90aXRsZT4KICAgIDxkZXNjPkNyZWF0ZWQgd2l0aCBTa2V0Y2guPC9kZXNjPgogICAgPGcgaWQ9IkxhbmRpbmciIHN0cm9rZT0ibm9uZSIgc3Ryb2tlLXdpZHRoPSIxIiBmaWxsPSJub25lIiBmaWxsLXJ1bGU9ImV2ZW5vZGQiPgogICAgICAgIDxnIGlkPSJBcnRib2FyZCIgdHJhbnNmb3JtPSJ0cmFuc2xhdGUoLTEyMzUuMDAwMDAwLCAtNzkuMDAwMDAwKSI+CiAgICAgICAgICAgIDxnIGlkPSJHcm91cC0zIiB0cmFuc2Zvcm09InRyYW5zbGF0ZSgxMjM1LjAwMDAwMCwgNzkuMDAwMDAwKSI+CiAgICAgICAgICAgICAgICA8cG9seWdvbiBpZD0iUGF0aC0yMCIgZmlsbD0iIzAyNjVCNCIgcG9pbnRzPSIyLjM3NjIzNzYyIDgwIDM4LjA0NzY2NjcgODAgNTcuODIxNzgyMiA3My44MDU3NTkyIDU3LjgyMTc4MjIgMzIuNzU5MjczOSAzOS4xNDAyMjc4IDMxLjY4MzE2ODMiPjwvcG9seWdvbj4KICAgICAgICAgICAgICAgIDxwYXRoIGQ9Ik0zNS4wMDc3MTgsODAgQzQyLjkwNjIwMDcsNzYuNDU0OTM1OCA0Ny41NjQ5MTY3LDcxLjU0MjI2NzEgNDguOTgzODY2LDY1LjI2MTk5MzkgQzUxLjExMjI4OTksNTUuODQxNTg0MiA0MS42NzcxNzk1LDQ5LjIxMjIyODQgMjUuNjIzOTg0Niw0OS4yMTIyMjg0IEMyNS40ODQ5Mjg5LDQ5LjEyNjg0NDggMjkuODI2MTI5Niw0My4yODM4MjQ4IDM4LjY0NzU4NjksMzEuNjgzMTY4MyBMNzIuODcxMjg3MSwzMi41NTQ0MjUgTDY1LjI4MDk3Myw2Ny42NzYzNDIxIEw1MS4xMTIyODk5LDc3LjM3NjE0NCBMMzUuMDA3NzE4LDgwIFoiIGlkPSJQYXRoLTIyIiBmaWxsPSIjMDAyODY4Ij48L3BhdGg+CiAgICAgICAgICAgICAgICA8cGF0aCBkPSJNMCwzNy43MzA0NDA1IEwyNy4xMTQ1MzcsMC4yNTcxMTE0MzYgQzYyLjM3MTUxMjMsLTEuOTkwNzE3MDEgODAsMTAuNTAwMzkyNyA4MCwzNy43MzA0NDA1IEM4MCw2NC45NjA0ODgyIDY0Ljc3NjUwMzgsNzkuMDUwMzQxNCAzNC4zMjk1MTEzLDgwIEM0Ny4wNTUzNDg5LDc3LjU2NzA4MDggNTMuNDE4MjY3Nyw3MC4zMTM2MTAzIDUzLjQxODI2NzcsNTguMjM5NTg4NSBDNTMuNDE4MjY3Nyw0MC4xMjg1NTU3IDM2LjMwMzk1NDQsMzcuNzMwNDQwNSAyNS4yMjc0MTcsMzcuNzMwNDQwNSBDMTcuODQzMDU4NiwzNy43MzA0NDA1IDkuNDMzOTE5NjYsMzcuNzMwNDQwNSAwLDM3LjczMDQ0MDUgWiIgaWQ9IlBhdGgtMTkiIGZpbGw9IiMzNzkzRUYiPjwvcGF0aD4KICAgICAgICAgICAgPC9nPgogICAgICAgIDwvZz4KICAgIDwvZz4KPC9zdmc+' > </img>\nCreated in <span style='font-weight:600;margin-left:4px;'>Deepnote</span></a>",
   "metadata": {
    "tags": [],
    "created_in_deepnote_cell": true,
    "deepnote_cell_type": "markdown"
   }
  }
 ],
 "nbformat": 4,
 "nbformat_minor": 2,
 "metadata": {
  "orig_nbformat": 2,
  "deepnote": {},
  "deepnote_notebook_id": "f4d231fc-1d8e-4c47-b94e-313325159ac0",
  "deepnote_execution_queue": []
 }
}